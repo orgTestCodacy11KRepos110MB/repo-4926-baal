{
 "cells": [
  {
   "cell_type": "markdown",
   "source": [
    "# PowerBALD (Kirsch et al. 2022)\n",
    "\n",
    "**NOTE: Members of Baal are co-authors on this paper.**\n",
    "\n",
    "\n",
    "PowerBALD is first introduced in the paper in [Stochastic Batch Acquisition for Deep Active Learning](https://arxiv.org/abs/2106.12059). The idea is simple: instead of selecting the top-K uncertain examples, we will sample from the uncertainty distribution.\n",
    "\n",
    "Let $U(x | D)$ be the BALD uncertainty of an input $x$ given a dataset $D$. Usually, the next item to label would be $\\arg\\max_{x \\in D_U} \\; U(x | D_U)$.\n",
    "\n",
    "PowerBALD proposes to instead select the next item by sampling from the distribution $U$.\n",
    "\n",
    "This method has been shown to be as performant as BatchBALD or BADGE while being extremely fast.\n",
    "<br>\n",
    "\n",
    "|                                   | BADGE      | BatchBALD    | PowerBALD      |\n",
    "|-----------------------------------|------------|--------------|----------------|\n",
    "| Runtime in seconds (10000 inputs) | 82.1 ± 2.5 | 363.6 ± 95.4 | **0.2  ± 0.0** |\n",
    "\n",
    "\n",
    "We will showcase the strength of PowerBALD on CLINC-151. This is also a very simple tutorial on how to get uncertainty using HuggingFace.\n"
   ],
   "metadata": {
    "collapsed": false
   }
  },
  {
   "cell_type": "code",
   "execution_count": 1,
   "outputs": [
    {
     "name": "stderr",
     "output_type": "stream",
     "text": [
      "Reusing dataset clinc_oos (/home/fred/.cache/huggingface/datasets/clinc_oos/small/1.0.0/abcc41d382f8137f039adc747af44714941e8196e845dfbdd8ae7a7e020e6ba1)\n"
     ]
    },
    {
     "data": {
      "text/plain": "  0%|          | 0/3 [00:00<?, ?it/s]",
      "application/vnd.jupyter.widget-view+json": {
       "version_major": 2,
       "version_minor": 0,
       "model_id": "b2089d111e32487db332965a6ed2bc5f"
      }
     },
     "metadata": {},
     "output_type": "display_data"
    },
    {
     "name": "stderr",
     "output_type": "stream",
     "text": [
      "Parameter 'function'=<function <lambda> at 0x7f8685fc5af0> of the transform datasets.arrow_dataset.Dataset.filter@2.0.1 couldn't be hashed properly, a random hash was used instead. Make sure your transforms and parameters are serializable with pickle or dill for the dataset fingerprinting and caching to work. If you reuse this transform, the caching mechanism will consider it to be different from the previous calls and recompute everything. This warning is only showed once. Subsequent hashing failures won't be showed.\n"
     ]
    },
    {
     "data": {
      "text/plain": "  0%|          | 0/6 [00:00<?, ?ba/s]",
      "application/vnd.jupyter.widget-view+json": {
       "version_major": 2,
       "version_minor": 0,
       "model_id": "dfee78271cd14a308c57d0cdcf50f9e8"
      }
     },
     "metadata": {},
     "output_type": "display_data"
    }
   ],
   "source": [
    "from baal.bayesian.dropout import patch_module\n",
    "from datasets import load_dataset\n",
    "from baal.active.dataset.nlp_datasets import active_huggingface_dataset\n",
    "from baal.transformers_trainer_wrapper import BaalTransformersTrainer\n",
    "from transformers import AutoTokenizer, AutoModelForSequenceClassification\n",
    "import torch\n",
    "\n",
    "# Load CLINC without OOS as it is a special case.\n",
    "raw_test_set = load_dataset(\"clinc_oos\", \"small\")['test']\n",
    "oos_index = raw_test_set.features['intent'].names.index('oos')\n",
    "raw_test_set = raw_test_set.filter(lambda u: u['intent'] != oos_index)\n",
    "\n",
    "# Load pretrained model\n",
    "pretrained_weights = 'transformersbook/distilbert-base-uncased-distilled-clinc'\n",
    "tokenizer = AutoTokenizer.from_pretrained(pretrained_model_name_or_path=pretrained_weights)\n",
    "\n",
    "use_cuda = torch.cuda.is_available()\n",
    "\n",
    "model = AutoModelForSequenceClassification.from_pretrained(pretrained_model_name_or_path=pretrained_weights)\n",
    "model = patch_module(model)\n",
    "if use_cuda:\n",
    "    model.cuda()\n",
    "\n",
    "trainer = BaalTransformersTrainer(model=model)\n",
    "\n",
    "# Preprocess dataset\n",
    "active_set = active_huggingface_dataset(raw_test_set, tokenizer, target_key=\"intent\", input_key=\"text\")"
   ],
   "metadata": {
    "collapsed": false
   }
  },
  {
   "cell_type": "code",
   "execution_count": 2,
   "outputs": [
    {
     "name": "stdout",
     "output_type": "stream",
     "text": [
      "[197666-MainThread] [baal.transformers_trainer_wrapper:predict_on_dataset_generator:67] \u001B[2m2022-09-18T17:53:51.534414Z\u001B[0m [\u001B[32m\u001B[1minfo     \u001B[0m] \u001B[1mStart Predict                 \u001B[0m \u001B[36mdataset\u001B[0m=\u001B[35m4500\u001B[0m\n"
     ]
    },
    {
     "name": "stderr",
     "output_type": "stream",
     "text": [
      "  0%|          | 0/563 [00:00<?, ?it/s]The following columns in the evaluation set don't have a corresponding argument in `DistilBertForSequenceClassification.forward` and have been ignored: inputs. If inputs are not expected by `DistilBertForSequenceClassification.forward`,  you can safely ignore this message.\n",
      "100%|██████████| 563/563 [09:27<00:00,  1.01s/it]\n"
     ]
    }
   ],
   "source": [
    "from baal.active.heuristics import BALD\n",
    "from baal.active.heuristics.stochastics import PowerSampling\n",
    "\n",
    "QUERY_SIZE = 50\n",
    "prediction = trainer.predict_on_dataset(active_set._dataset, iterations=20)\n",
    "uncertainty = BALD().get_uncertainties(prediction)\n",
    "bald_queries = BALD()(prediction)[:QUERY_SIZE]\n",
    "powerbald_queries = PowerSampling(BALD(), query_size=QUERY_SIZE)(prediction)"
   ],
   "metadata": {
    "collapsed": false
   }
  },
  {
   "cell_type": "code",
   "execution_count": 3,
   "outputs": [
    {
     "data": {
      "text/plain": "<Figure size 432x288 with 1 Axes>",
      "image/png": "[encoded data removed]"
     },
     "metadata": {
      "needs_background": "light"
     },
     "output_type": "display_data"
    },
    {
     "data": {
      "text/plain": "<Figure size 432x288 with 1 Axes>",
      "image/png": "[encoded data removed]"
     },
     "metadata": {
      "needs_background": "light"
     },
     "output_type": "display_data"
    }
   ],
   "source": [
    "import numpy as np\n",
    "import matplotlib.pyplot as plt\n",
    "# If we plot everything, we would get the following.\n",
    "def plot_uncertainty(uncertainty, queries, title):\n",
    "    sorted_uncertainty = np.argsort(uncertainty).tolist()\n",
    "    x = np.arange(len(sorted_uncertainty))\n",
    "    bars = plt.bar(x, uncertainty[sorted_uncertainty], color='blue')\n",
    "    for q in queries:\n",
    "        bars[sorted_uncertainty.index(q)].set_color('red')\n",
    "    plt.title(title)\n",
    "    plt.xlabel(\"Item\")\n",
    "    plt.ylabel(\"BALD Uncertainty\")\n",
    "    plt.show()\n",
    "plot_uncertainty(uncertainty, queries=bald_queries, title=\"BALD\")\n",
    "plot_uncertainty(uncertainty, queries=powerbald_queries, title=\"PowerBALD\")"
   ],
   "metadata": {
    "collapsed": false
   }
  },
  {
   "cell_type": "markdown",
   "source": [
    "In the figures above, PowerBALD samples more diversely than BALD while selecting high uncertainty items in priority.\n",
    "\n",
    "\n",
    "The lack of diversity has been explored in [Tsymbalov et al, 2019](https://arxiv.org/abs/1902.10350) and [BatchBALD](https://arxiv.org/abs/1906.08158).\n",
    " In Figure 1 below, high uncertainty points are often highly correlated. As a result, selecting the top-K examples is suboptimal.\n",
    "<img src=\"https://i.imgur.com/zqg0Jlx.png\" width=\"500\"/>\n"
   ],
   "metadata": {
    "collapsed": false
   }
  }
 ],
 "metadata": {
  "kernelspec": {
   "display_name": "Python 3",
   "language": "python",
   "name": "python3"
  },
  "language_info": {
   "codemirror_mode": {
    "name": "ipython",
    "version": 2
   },
   "file_extension": ".py",
   "mimetype": "text/x-python",
   "name": "python",
   "nbconvert_exporter": "python",
   "pygments_lexer": "ipython2",
   "version": "2.7.6"
  }
 },
 "nbformat": 4,
 "nbformat_minor": 0
}
